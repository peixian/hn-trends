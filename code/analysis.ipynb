{
 "cells": [
  {
   "cell_type": "code",
   "execution_count": 43,
   "metadata": {
    "collapsed": false
   },
   "outputs": [],
   "source": [
    "import numpy as np\n",
    "import pandas as pd\n",
    "import matplotlib.pyplot as plt\n",
    "import seaborn as sns\n",
    "\n",
    "from sklearn.decomposition import NMF\n",
    "from sklearn.preprocessing import normalize\n",
    "\n",
    "from sklearn.naive_bayes import MultinomialNB\n",
    "\n",
    "from sklearn import metrics\n",
    "from sklearn.decomposition import LatentDirichletAllocation\n",
    "from gensim import corpora"
   ]
  },
  {
   "cell_type": "code",
   "execution_count": 44,
   "metadata": {
    "collapsed": false
   },
   "outputs": [],
   "source": [
    "import scrape as sc\n",
    "from datetime import datetime"
   ]
  },
  {
   "cell_type": "code",
   "execution_count": 45,
   "metadata": {
    "collapsed": false
   },
   "outputs": [],
   "source": [
    "#load the data\n",
    "scraper = sc.Scrape()\n",
    "comments = scraper.return_comments_date(datetime(2016, 6, 20))"
   ]
  },
  {
   "cell_type": "code",
   "execution_count": 46,
   "metadata": {
    "collapsed": false
   },
   "outputs": [
    {
     "name": "stdout",
     "output_type": "stream",
     "text": [
      "30\n",
      "102\n"
     ]
    }
   ],
   "source": [
    "#test out the comments\n",
    "print(len(comments)) #https://news.ycombinator.com/front?day=2015-04-09\n",
    "print(len(comments[0])) #https://news.ycombinator.com/item?id=11941130"
   ]
  },
  {
   "cell_type": "code",
   "execution_count": 47,
   "metadata": {
    "collapsed": true
   },
   "outputs": [],
   "source": [
    "#flatten the list\n",
    "comments = sum(comments, [])\n",
    "print(comments[:3])"
   ]
  },
  {
   "cell_type": "code",
   "execution_count": 53,
   "metadata": {
    "collapsed": false
   },
   "outputs": [
    {
     "name": "stdout",
     "output_type": "stream",
     "text": [
      "[['honestly', 'happy', 'stop', 'windows', '10', 'turning', 'laptop', 'hair', 'randomly', 'otherwise', 'entirely', 'thing', 'sitting', 'nothing,', 'suddenly', 'fan', 'will', 'start', 'cpu', 'utilization'], ['apparently', 'windows', '10', 'likes', 'use', 'idle', 'time', 'test', 'desktop', 'causing', 'rev', 'fan', 'idle', 'minutes.'], ['seriously', 'earth', 'happen?', 'even', 'edge', 'ends', 'rest', 'os', 'going', 'ensure', 'will', 'get', '3', 'hours', 'battery', 'life', 'laptop.'], ['windows', 'update', 'via', 'problem', 'machines', 'support.', 'randomly', '100%', 'cpu', 'minutes'], ['use', 'specific', 'pc', 'around', 'week,', 'basically', 'unusable', 'startup.', '100%', 'around', '20', 'minutes,', 'every', 'now', 'spike', 'hell', 'microsoft', 'playing', 'at,', 'process', 'switching', 'computers', 'linux.'], ['well,', 'one', 'thing', 'can', 'sure', 'will', 'never', 'happen', 'service', 'bothers', 'you,', 'can', 'always', 'reschedule', 'turn', 'off.', 'good', 'like', 'updates', 'windows', '(unless', 'enterprise', 'user,', 'even'], ['poorly', 'programmed', 'code', 'update', 'problematic', 'function', 'spending', 'cpu', 'bug', 'obviously', 'highly', 'inefficient', 'traversal', 'existing', 'info', 'updates,', 'obviously', 'bad', 'time', 'just', 'small', 'number', 'used', 'microsoft', 'tools', 'that,', 'one', 'found', 'info', 'available', 'microsoft,', 'obviously', 'want', 'fix', 'machine', 'takes', '4', 'hours', 'using', '100%', 'cpu', 'one', '100', 'millions', 'machines,', 'just', '40', 'hours', 'used', '4', 'hours,', 'gives', '4', 'hours', 'wasted', 'every', 'month', 'world', 'due', 'particular', 'bad', 'code', '(if', 'calculated', 'right,', 'one', 'year,', 'rough', 'equivalent', 'total', 'energy', 'use', '1500', 'germans', '500', 'us'], ['solution', 'found', 'disable', 'windows', 'update', 'searching', 'updates', 'setting', 'updates', 'causes', 'problem', 'every', 'time', 'want', 'actually', 'update,', 'windows', 'update', 'may', 'rebuild', 'entire', 'database', 'scratch', 'can', 'take', 'hours', 'heavily', 'machine.'], ['related', 'rebuilding', 'rebuilding', 'database', \"(i've\", 'tried', 'that)', 'new', 'updates', 'exist,', 'traversal', 'part', 'always', 'slow,', 'least', 'windows', 'database', 'is,', 'whole', '1', 'gb'], ['certain', 'causes', 'you,', \"microsoft's\", 'supposed', 'run', 'mode', 'whatever', 'reason', 'running', 'using', 'worse', 'automatic', 'os', 'seem', 'also', 'think', 'idle']]\n"
     ]
    }
   ],
   "source": [
    "#basic stop words\n",
    "from stop_words import get_stop_words\n",
    "stop_words = get_stop_words('en')\n",
    "\n",
    "#flatten the comments list\n",
    "\n",
    "txts = [[word for word in sentence.lower().split() if word not in stop_words]\n",
    "        for sentence in comments]\n",
    "\n",
    "#collapse into tokens\n",
    "from collections import Counter\n",
    "frequency = Counter([word for txt in txts for word in txt])\n",
    "tokens = [[token for token in txt if frequency[token] > 1] for txt in txts]"
   ]
  },
  {
   "cell_type": "code",
   "execution_count": 54,
   "metadata": {
    "collapsed": false
   },
   "outputs": [
    {
     "name": "stdout",
     "output_type": "stream",
     "text": [
      "Dictionary(9977 unique tokens: ['counter?', '10k', 'universe', 'gap', 'teleport']...)\n"
     ]
    }
   ],
   "source": [
    "#make the dictionary mapping\n",
    "dict_gensim = corpora.Dictionary(tokens)\n",
    "print(dict_gensim)"
   ]
  },
  {
   "cell_type": "code",
   "execution_count": 61,
   "metadata": {
    "collapsed": false
   },
   "outputs": [],
   "source": [
    "from gensim import models\n",
    "#term frequency - inverse document frequency \n",
    "corpus = [dict_gensim.doc2bow(txt) for txt in txts]\n",
    "tfidf = models.TfidfModel(corpus)"
   ]
  },
  {
   "cell_type": "code",
   "execution_count": 62,
   "metadata": {
    "collapsed": false
   },
   "outputs": [],
   "source": [
    "#compute the LDA model\n",
    "corpus_tfidf = tfidf[corpus]\n",
    "lda_gs = models.LdaModel(corpus = corpus_tfidf, id2word=dict_gensim, num_topics = 3, passes = 15)"
   ]
  },
  {
   "cell_type": "code",
   "execution_count": 63,
   "metadata": {
    "collapsed": false
   },
   "outputs": [
    {
     "data": {
      "text/plain": [
       "[(0,\n",
       "  '0.003*think + 0.003*can + 0.003*like + 0.002*people + 0.002*will + 0.002*just + 0.002*-- + 0.002*... + 0.002*use + 0.002*one'),\n",
       " (1,\n",
       "  '0.002*docker + 0.002*just + 0.001*data + 0.001*like + 0.001*file + 0.001*can + 0.001*use + 0.001*using + 0.001*look + 0.001*chrome'),\n",
       " (2,\n",
       "  '0.002*thanks! + 0.001*carbon + 0.001*eu + 0.001*gc + 0.001*sure. + 0.001*yep, + 0.001*thanks. + 0.001*bug + 0.001*trees + 0.001*now?')]"
      ]
     },
     "execution_count": 63,
     "metadata": {},
     "output_type": "execute_result"
    }
   ],
   "source": [
    "lda_gs.print_topics(3)"
   ]
  },
  {
   "cell_type": "code",
   "execution_count": 65,
   "metadata": {
    "collapsed": false
   },
   "outputs": [
    {
     "name": "stdout",
     "output_type": "stream",
     "text": [
      "Topic 0\n",
      "-----------------------------------\n",
      "    think               : 0.0029\n",
      "    can                 : 0.0028\n",
      "    like                : 0.0027\n",
      "    people              : 0.0023\n",
      "    will                : 0.0023\n",
      "-----------------------------------\n",
      "Topic 1\n",
      "-----------------------------------\n",
      "    docker              : 0.0021\n",
      "    just                : 0.0017\n",
      "    data                : 0.0015\n",
      "    like                : 0.0014\n",
      "    file                : 0.0013\n",
      "-----------------------------------\n",
      "Topic 2\n",
      "-----------------------------------\n",
      "    thanks!             : 0.0018\n",
      "    carbon              : 0.0013\n",
      "    eu                  : 0.0012\n",
      "    gc                  : 0.0011\n",
      "    sure.               : 0.0009\n",
      "-----------------------------------\n"
     ]
    }
   ],
   "source": [
    "ttps = lda_gs.top_topics(corpus=corpus_tfidf, num_words=5)\n",
    "idx = 0\n",
    "for lst, val in ttps:\n",
    "    print('Topic {0}'.format(idx))\n",
    "    print(35*('-'))\n",
    "    idx += 1\n",
    "    for i, z in lst:\n",
    "        print('    {0:20s}: {1:5.4f}'.format(z, i))\n",
    "    print(35*('-'))\n"
   ]
  },
  {
   "cell_type": "code",
   "execution_count": null,
   "metadata": {
    "collapsed": true
   },
   "outputs": [],
   "source": []
  }
 ],
 "metadata": {
  "kernelspec": {
   "display_name": "Python 3",
   "language": "python",
   "name": "python3"
  },
  "language_info": {
   "codemirror_mode": {
    "name": "ipython",
    "version": 3
   },
   "file_extension": ".py",
   "mimetype": "text/x-python",
   "name": "python",
   "nbconvert_exporter": "python",
   "pygments_lexer": "ipython3",
   "version": "3.5.1"
  }
 },
 "nbformat": 4,
 "nbformat_minor": 0
}
